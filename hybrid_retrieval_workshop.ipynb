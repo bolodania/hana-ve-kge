{
 "cells": [
  {
   "cell_type": "markdown",
   "metadata": {},
   "source": [
    "# Hands-On Workshop: Hybrid Retrieval Process with LLM-Generated SPARQL Queries\n",
    "\n",
    "Welcome to the hands-on workshop for the Hybrid Retrieval Process! This notebook demonstrates how to use vector search and SPARQL queries to retrieve and analyze supplier information from both unstructured and structured data. The SPARQL queries will be dynamically generated using a Language Model (LLM).\n",
    "\n",
    "## Objectives\n",
    "By the end of this workshop, you will:\n",
    "- Understand how to initialize and use the hybrid retrieval process.\n",
    "- Learn how to generate SPARQL queries dynamically using LLMs.\n",
    "- Combine results from vector search and SPARQL to generate meaningful answers.\n",
    "\n",
    "## Prerequisites\n",
    "Before running this notebook, ensure the following:\n",
    "- Python 3.11 or higher is installed.\n",
    "- All dependencies listed in `requirements.txt` are installed.\n",
    "- The configuration files (`env_cloud.json` and `env_config.json`) are properly set up in the `config/` directory.\n",
    "- The SAP HANA database is accessible and contains the required data."
   ]
  },
  {
   "cell_type": "markdown",
   "metadata": {},
   "source": [
    "## Step 1: Import Required Modules\n",
    "We will start by importing the necessary modules and initializing the environment."
   ]
  },
  {
   "cell_type": "code",
   "execution_count": null,
   "metadata": {},
   "outputs": [],
   "source": [
    "import os\n",
    "import json\n",
    "from hdbcli import dbapi\n",
    "from gen_ai_hub.proxy.langchain.openai import OpenAIEmbeddings, ChatOpenAI\n",
    "from gen_ai_hub.proxy.gen_ai_hub_proxy import GenAIHubProxyClient\n",
    "from ai_core_sdk.ai_core_v2_client import AICoreV2Client\n",
    "from langchain_community.vectorstores.hanavector import HanaDB\n",
    "from langchain.prompts import PromptTemplate\n",
    "\n",
    "print(\"Modules imported successfully!\")"
   ]
  },
  {
   "cell_type": "markdown",
   "metadata": {},
   "source": [
    "## Step 2: Load Configuration Files\n",
    "We will load the configuration files (`env_cloud.json` and `env_config.json`) to set up the SAP HANA and AI Core environments."
   ]
  },
  {
   "cell_type": "code",
   "execution_count": null,
   "metadata": {},
   "outputs": [],
   "source": [
    "# Load configuration files\n",
    "with open('config/env_cloud.json') as f:\n",
    "    hana_env_c = json.load(f)\n",
    "\n",
    "with open('config/env_config.json') as f:\n",
    "    aicore_config = json.load(f)\n",
    "\n",
    "print(\"Configuration files loaded successfully!\")"
   ]
  },
  {
   "cell_type": "markdown",
   "metadata": {},
   "source": [
    "## Step 3: Initialize SAP HANA and AI Core Clients\n",
    "We will initialize the SAP HANA database connection and the AI Core client for embedding and language model operations."
   ]
  },
  {
   "cell_type": "code",
   "execution_count": null,
   "metadata": {},
   "outputs": [],
   "source": [
    "# Initialize AI Core client\n",
    "ai_core_client = AICoreV2Client(\n",
    "    base_url=aicore_config['AICORE_BASE_URL'],\n",
    "    auth_url=aicore_config['AICORE_AUTH_URL'],\n",
    "    client_id=aicore_config['AICORE_CLIENT_ID'],\n",
    "    client_secret=aicore_config['AICORE_CLIENT_SECRET'],\n",
    "    resource_group=aicore_config['AICORE_RESOURCE_GROUP']\n",
    ")\n",
    "\n",
    "# Initialize GenAI Hub Proxy Client\n",
    "proxy_client = GenAIHubProxyClient(ai_core_client=ai_core_client)\n",
    "\n",
    "# Initialize OpenAI Embedding Model\n",
    "embedding_model = OpenAIEmbeddings(proxy_model_name='text-embedding-ada-002', proxy_client=proxy_client)\n",
    "\n",
    "# Initialize LLM for SPARQL query generation\n",
    "llm = ChatOpenAI(proxy_model_name='gpt-4o', proxy_client=proxy_client)\n",
    "\n",
    "# Connect to SAP HANA\n",
    "HANA_SCHEMA = \"RAG\"\n",
    "HANA_EMBED_TABLE = \"SUPPLIERS_EMBED_ADA\"\n",
    "\n",
    "conn_db_api = dbapi.connect(\n",
    "    address=hana_env_c['url'],\n",
    "    port=hana_env_c['port'],\n",
    "    user=hana_env_c['user'],\n",
    "    password=hana_env_c['pwd'],\n",
    "    currentSchema=HANA_SCHEMA\n",
    ")\n",
    "\n",
    "# Initialize HanaDB Vector Store\n",
    "db_ada_table = HanaDB(\n",
    "    embedding=embedding_model,\n",
    "    connection=conn_db_api,\n",
    "    table_name=HANA_EMBED_TABLE,\n",
    "    content_column=\"CONTENT\",\n",
    "    metadata_column=\"METADATA\",\n",
    "    vector_column=\"VECTOR\"\n",
    ")\n",
    "\n",
    "print(\"SAP HANA and AI Core clients initialized successfully!\")"
   ]
  },
  {
   "cell_type": "markdown",
   "metadata": {},
   "source": [
    "## Step 4: Vector Search\n",
    "In this step, we will retrieve relevant unstructured data using vector embeddings."
   ]
  },
  {
   "cell_type": "code",
   "execution_count": null,
   "metadata": {},
   "outputs": [],
   "source": [
    "# Define a sample question\n",
    "question = \"Which suppliers are located in high-risk countries?\"\n",
    "\n",
    "# Retrieve vector context\n",
    "def retrieve_vector_context(question, top_k=25):\n",
    "    retriever = db_ada_table.as_retriever(search_kwargs={'k': top_k})\n",
    "    return retriever.invoke(question)\n",
    "\n",
    "vector_context = retrieve_vector_context(question)\n",
    "print(\"Vector Context Retrieved:\")\n",
    "print(vector_context)"
   ]
  },
  {
   "cell_type": "markdown",
   "metadata": {},
   "source": [
    "## Step 5: Generate SPARQL Query with LLM\n",
    "We will now generate a SPARQL query dynamically using the LLM based on the RDF context and the user question."
   ]
  },
  {
   "cell_type": "code",
   "execution_count": null,
   "metadata": {},
   "outputs": [],
   "source": [
    "# Define the context about your RDF schema\n",
    "rdf_context = \"\"\"\n",
    "    Your RDF graph uses the following structure:\n",
    "\n",
    "    Namespaces:\n",
    "    - rag: <http://sap.com/rag/>\n",
    "\n",
    "    Supplier entities (identified by SUPPLIER_NAME) have the following properties:\n",
    "    - rag:locatedIn → the supplier's country (IRI reference).\n",
    "    - rag:hasSupplierType → type of supplier (Literal: \"Manufacturer\" or \"Reseller\").\n",
    "    - rag:hasSupplierId → supplier ID (Literal string).\n",
    "    - rag:hasAddress → supplier address (Literal string).\n",
    "    - rag:locatedInCity → supplier city (Literal string).\n",
    "    - rag:hasEmail → supplier email (Literal string).\n",
    "    - rag:hasPhone → supplier phone (Literal string).\n",
    "    - rag:hasWebsite → supplier website (Literal string).\n",
    "\n",
    "    Country entities (identified by SUPPLIER_COUNTRY) have the following properties:\n",
    "    - rag:hasGeopoliticalRisk → geopolitical risk level (Literal string: \"High\", \"Medium\", \"Low\").\n",
    "\n",
    "    Example triples:\n",
    "    - rag:StandSolutions rag:locatedIn rag:Russia .\n",
    "    - rag:StandSolutions rag:hasSupplierType \"Manufacturer\" .\n",
    "    - rag:StandSolutions rag:hasAddress \"Tverskaya St 7, Moscow, Russia\" .\n",
    "    - rag:Russia rag:hasGeopoliticalRisk \"High\" .\n",
    "\n",
    "    \"\"\"\n",
    "\n",
    "# Define SPARQL generation prompt\n",
    "sparql_prompt_template = PromptTemplate(\n",
    "    template=\"\"\"\n",
    "        Generate a SPARQL query for the user question.\n",
    "\n",
    "        Given the following RDF context: {rdf_context}\n",
    "        \n",
    "        And the user question:\n",
    "        '{question}'\n",
    "\n",
    "        Instructions:\n",
    "        - Query the GRAPH <rag_suppliers>.\n",
    "        - Always use the 'rag:' prefix for entities and predicates.\n",
    "        - Available query variables include: ?supplierName, ?supplierType, ?supplierId, ?address, ?city, ?email, ?phone, ?website, ?country, ?risk.\n",
    "        - You must only use available variables. Do NOT use any incorrect or undefined variables.\n",
    "        - Every variable you SELECT must be BOUND (linked to an entity or literal) inside WHERE.\n",
    "        - If you need to access values like geopolitical risk (\"High\", \"Low\"), you must bind it first:\n",
    "            Example: ?country rag:hasGeopoliticalRisk ?risk .\n",
    "        - Apply FILTERS *after* binding the variable.\n",
    "        - DO NOT directly compare inside triple patterns like ?country rag:hasGeopoliticalRisk \"High\" if you SELECT ?risk.\n",
    "        - When using IRIs for suppliers or countries, replace spaces with underscores (e.g., 'North Korea' → North_Korea). Do not remove spaces entirely.\n",
    "        - Return ONLY the SPARQL query body (SELECT ... FROM ... WHERE ...).\n",
    "        - Do NOT wrap it with CALL SPARQL_EXECUTE.\n",
    "        - Format it as SPARQL query (NO code blocks like ```sparql or ```).\n",
    "\n",
    "        Add the prefix declaration at the start of the query, like:\n",
    "        PREFIX rag: <http://sap.com/rag/>\n",
    "\n",
    "        Example:\n",
    "        PREFIX rag: <http://sap.com/rag/>\n",
    "        SELECT ?supplier ?supplierType ?country ?risk\n",
    "        FROM <rag_suppliers>\n",
    "        WHERE {{\n",
    "            ?supplier rag:locatedIn ?country .\n",
    "            ?supplier rag:hasSupplierType ?supplierType .\n",
    "            ?country rag:hasGeopoliticalRisk ?risk .\n",
    "            FILTER(?risk = \"High\")\n",
    "        }}\n",
    "        \n",
    "        \"\"\",\n",
    "    input_variables=[\"rdf_context\", \"question\"]\n",
    ")\n",
    "\n",
    "# Generate SPARQL query using LLM\n",
    "sparql_llm_chain = sparql_prompt_template | llm\n",
    "sparql_query = sparql_llm_chain.invoke({\n",
    "    \"rdf_context\": rdf_context,\n",
    "    \"question\": question\n",
    "}).content.strip()\n",
    "\n",
    "print(\"Generated SPARQL Query:\")\n",
    "print(sparql_query)"
   ]
  },
  {
   "cell_type": "markdown",
   "metadata": {},
   "source": [
    "## Step 6: Execute SPARQL Query\n",
    "We will execute the SPARQL query and retrieve results from the knowledge graph."
   ]
  },
  {
   "cell_type": "code",
   "execution_count": null,
   "metadata": {},
   "outputs": [],
   "source": [
    "# Execute SPARQL stored procedure\n",
    "cursor = conn_db_api.cursor()\n",
    "try:\n",
    "    resp = cursor.callproc('SPARQL_EXECUTE', (\n",
    "        sparql_query,\n",
    "        'Accept: application/sparql-results+csv',\n",
    "        '?',\n",
    "        None\n",
    "    ))\n",
    "    metadata = resp[3]\n",
    "    results = resp[2]\n",
    "    \n",
    "    # Print results\n",
    "    print(\"Query Response:\", results)\n",
    "    print(\"Response Metadata:\", metadata)\n",
    "\n",
    "    kg_context = results, metadata\n",
    "except Exception as e:\n",
    "    raise RuntimeError(f\"SPARQL_EXECUTE failed: {e}\")\n",
    "\n",
    "kg_context = results, metadata\n",
    "print(\"\\nKnowledge Graph Context Retrieved:\")\n",
    "print(kg_context)"
   ]
  },
  {
   "cell_type": "markdown",
   "metadata": {},
   "source": [
    "## Step 7: Generate Final Answer\n",
    "Finally, we will combine the results from vector search and SPARQL to generate a meaningful answer."
   ]
  },
  {
   "cell_type": "code",
   "execution_count": null,
   "metadata": {},
   "outputs": [],
   "source": [
    "final_prompt_template = PromptTemplate(\n",
    "    template=\"\"\"\n",
    "        Context: You are tasked with helping retrieve and summarize supplier information.\n",
    "\n",
    "        Available information:\n",
    "        - Unstructured document chunks ({vector_context}).\n",
    "        - Structured knowledge graph results ({kg_context}).\n",
    "\n",
    "        User Question:\n",
    "        {question}\n",
    "\n",
    "        Instructions:\n",
    "        - Only suppliers that appear in the knowledge graph may be included in the final answer.\n",
    "        - Use unstructured document data *only* to enrich or clarify facts about suppliers already found in the knowledge graph.\n",
    "        - Do not include any supplier names, risk classifications, or attributes that are mentioned *only* in unstructured data.\n",
    "        - If a supplier appears in documents but is not present in the knowledge graph, exclude it from the answer and state: \"Information not available.\"\n",
    "        - Do not infer or assume facts — all conclusions must be backed by knowledge graph validation.\n",
    "        - Optionally, include supporting information from unstructured data *if* it aligns with the knowledge graph result.\n",
    "        - Prefer clarity and structured presentation (use lists or bullets). Optionally, return structured JSON if many suppliers are involved.\n",
    "\n",
    "        Return:\n",
    "        - A clean, human-readable summary limited to validated suppliers only.\n",
    "        - Ensure all risk indicators are grounded in validated graph entries.\n",
    "\n",
    "        \"\"\",\n",
    "    input_variables=[\"vector_context\", \"kg_context\", \"question\"]\n",
    ")\n",
    "# Generate final answer using LLM\n",
    "final_answer_llm_chain = final_prompt_template | llm\n",
    "final_answer = final_answer_llm_chain.invoke({\n",
    "    \"vector_context\": vector_context,\n",
    "    \"kg_context\": kg_context,\n",
    "    \"question\": question\n",
    "}).content.strip()\n",
    "\n",
    "print(\"\\n=== Final Answer ===\\n\")\n",
    "print(final_answer)"
   ]
  },
  {
   "cell_type": "markdown",
   "metadata": {},
   "source": [
    "## Step 8: Close Database Connection\n",
    "Ensure the database connection is closed when the notebook is no longer in use."
   ]
  },
  {
   "cell_type": "code",
   "execution_count": null,
   "metadata": {},
   "outputs": [],
   "source": [
    "# Cleanup\n",
    "if conn_db_api:\n",
    "    conn_db_api.close()\n",
    "    print(\"Database connection closed.\")"
   ]
  }
 ],
 "metadata": {
  "kernelspec": {
   "display_name": "Python 3",
   "language": "python",
   "name": "python3"
  },
  "language_info": {
   "codemirror_mode": {
    "name": "ipython",
    "version": 3
   },
   "file_extension": ".py",
   "mimetype": "text/x-python",
   "name": "python",
   "nbconvert_exporter": "python",
   "pygments_lexer": "ipython3",
   "version": "3.11.7"
  }
 },
 "nbformat": 4,
 "nbformat_minor": 2
}
